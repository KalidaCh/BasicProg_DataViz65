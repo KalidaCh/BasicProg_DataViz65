{
  "nbformat": 4,
  "nbformat_minor": 0,
  "metadata": {
    "colab": {
      "name": "Recap 1-3 Quiz1.ipynb",
      "provenance": [],
      "include_colab_link": true
    },
    "kernelspec": {
      "name": "python3",
      "display_name": "Python 3"
    },
    "language_info": {
      "name": "python"
    }
  },
  "cells": [
    {
      "cell_type": "markdown",
      "metadata": {
        "id": "view-in-github",
        "colab_type": "text"
      },
      "source": [
        "<a href=\"https://colab.research.google.com/github/KalidaCh/BasicProg_DataViz65/blob/main/Recap_1_3_Quiz1.ipynb\" target=\"_parent\"><img src=\"https://colab.research.google.com/assets/colab-badge.svg\" alt=\"Open In Colab\"/></a>"
      ]
    },
    {
      "cell_type": "markdown",
      "source": [
        "Quiz 1 \n",
        "\n",
        "คำนวณเวลาเป็นความต่างของเวลาเป็นวินาทีของช่วงเวลาต่อไปนี้โดยใช้คำสั่ง split() ช่วย และ print ออกมาให้สวยงาม\n",
        "\n",
        "* 09:11:50 - 12:30:15\n",
        "* 13:41:07 - 20:00:18\n",
        "* 21:30:15 - 00:00:00\n",
        "* 00:00:00 - 23:59:59\n",
        "\n",
        "\n",
        "\n",
        "\n",
        "\n"
      ],
      "metadata": {
        "id": "FKKg2s03yfKC"
      }
    },
    {
      "cell_type": "code",
      "source": [
        "a1='09:11:50'\n",
        "a1_sp=a1.split(':')\n",
        "print(a1_sp)\n",
        "ans1=int(a1_sp[0])*3600+int (a1_sp[1])*60+int (a1_sp[2])\n",
        "a2='12:30:15'\n",
        "a2_sp=a2.split(':')\n",
        "print(a2_sp)\n",
        "ans2=int(a2_sp[0])*3600+int (a2_sp[1])*60+int (a2_sp[2])\n",
        "print(f'ความต่างของเวลา a1-a2 เป็นวินาที เท่ากับ {ans2-ans1} วินาที' )"
      ],
      "metadata": {
        "colab": {
          "base_uri": "https://localhost:8080/"
        },
        "id": "sNYAYhwVHJNB",
        "outputId": "463444ff-2469-4970-e216-f1064a3c65be"
      },
      "execution_count": 29,
      "outputs": [
        {
          "output_type": "stream",
          "name": "stdout",
          "text": [
            "['09', '11', '50']\n",
            "['12', '30', '15']\n",
            "ความต่างของเวลา a1-a2 เป็นวินาที เท่ากับ 11905 วินาที\n"
          ]
        }
      ]
    },
    {
      "cell_type": "code",
      "source": [
        "a1='13:41:07'\n",
        "a1_sp=a1.split(':')\n",
        "print(a1_sp)\n",
        "ans1=int(a1_sp[0])*3600+int (a1_sp[1])*60+int (a1_sp[2])\n",
        "a2='20:00:18'\n",
        "a2_sp=a2.split(':')\n",
        "print(a2_sp)\n",
        "ans2=int(a2_sp[0])*3600+int (a2_sp[1])*60+int (a2_sp[2])\n",
        "print(f'ความต่างของเวลา a1-a2 เป็นวินาที เท่ากับ {ans2-ans1} วินาที' )"
      ],
      "metadata": {
        "colab": {
          "base_uri": "https://localhost:8080/"
        },
        "outputId": "91e43f81-b43b-4604-926a-77727ce414b7",
        "id": "7HcrUvCaNTKw"
      },
      "execution_count": 30,
      "outputs": [
        {
          "output_type": "stream",
          "name": "stdout",
          "text": [
            "['13', '41', '07']\n",
            "['20', '00', '18']\n",
            "ความต่างของเวลา a1-a2 เป็นวินาที เท่ากับ 22751 วินาที\n"
          ]
        }
      ]
    },
    {
      "cell_type": "code",
      "source": [
        "a1='21:30:15'\n",
        "a1_sp=a1.split(':')\n",
        "print(a1_sp)\n",
        "ans1=int(a1_sp[0])*3600+int (a1_sp[1])*60+int (a1_sp[2])\n",
        "a2='24:00:00'\n",
        "a2_sp=a2.split(':')\n",
        "print(a2_sp)\n",
        "ans2=int(a2_sp[0])*3600+int (a2_sp[1])*60+int (a2_sp[2])\n",
        "print(f'ความต่างของเวลา a1-a2 เป็นวินาที เท่ากับ {ans2-ans1} วินาที' )"
      ],
      "metadata": {
        "colab": {
          "base_uri": "https://localhost:8080/"
        },
        "outputId": "9d2bbdaf-8e0d-4ae9-9db8-905ca8fcfeb9",
        "id": "Gk_Dn5u_Nopl"
      },
      "execution_count": 31,
      "outputs": [
        {
          "output_type": "stream",
          "name": "stdout",
          "text": [
            "['21', '30', '15']\n",
            "['24', '00', '00']\n",
            "ความต่างของเวลา a1-a2 เป็นวินาที เท่ากับ 8985 วินาที\n"
          ]
        }
      ]
    },
    {
      "cell_type": "code",
      "source": [
        ""
      ],
      "metadata": {
        "id": "fjzcyxSkN10h"
      },
      "execution_count": null,
      "outputs": []
    },
    {
      "cell_type": "code",
      "source": [
        "a1='00:00:00'\n",
        "a1_sp=a1.split(':')\n",
        "print(a1_sp)\n",
        "ans1=int(a1_sp[0])*3600+int (a1_sp[1])*60+int (a1_sp[2])\n",
        "a2='23:59:59'\n",
        "a2_sp=a2.split(':')\n",
        "print(a2_sp)\n",
        "ans2=int(a2_sp[0])*3600+int (a2_sp[1])*60+int (a2_sp[2])\n",
        "print(f'ความต่างของเวลา a1-a2 เป็นวินาที เท่ากับ {ans2-ans1} วินาที' )"
      ],
      "metadata": {
        "colab": {
          "base_uri": "https://localhost:8080/"
        },
        "outputId": "21504e42-21f1-4463-e9f2-f8af9dbcebe0",
        "id": "Fzolb_H8N2jg"
      },
      "execution_count": 32,
      "outputs": [
        {
          "output_type": "stream",
          "name": "stdout",
          "text": [
            "['00', '00', '00']\n",
            "['23', '59', '59']\n",
            "ความต่างของเวลา a1-a2 เป็นวินาที เท่ากับ 86399 วินาที\n"
          ]
        }
      ]
    }
  ]
}