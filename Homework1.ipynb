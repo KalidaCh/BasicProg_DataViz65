{
  "nbformat": 4,
  "nbformat_minor": 0,
  "metadata": {
    "colab": {
      "name": "Homework1.ipynb",
      "provenance": [],
      "authorship_tag": "ABX9TyOphz9hR7Z0I84/a/powJJs",
      "include_colab_link": true
    },
    "kernelspec": {
      "name": "python3",
      "display_name": "Python 3"
    },
    "language_info": {
      "name": "python"
    }
  },
  "cells": [
    {
      "cell_type": "markdown",
      "metadata": {
        "id": "view-in-github",
        "colab_type": "text"
      },
      "source": [
        "<a href=\"https://colab.research.google.com/github/KalidaCh/BasicProg_DataViz65/blob/main/Homework1.ipynb\" target=\"_parent\"><img src=\"https://colab.research.google.com/assets/colab-badge.svg\" alt=\"Open In Colab\"/></a>"
      ]
    },
    {
      "cell_type": "markdown",
      "source": [
        "#HW1\n",
        "\n",
        "##เขียน function แสดงความต่างของเวลา (Quiz1) โดย input อยู่ในรูปแบบ '09:11:50 - 12:30:15'\n",
        "##และทดลองรัน\n",
        "\n",
        "    '09:11:50 - 12:30:15'\n",
        "    '13:41:07 - 20:00:18'\n",
        "    '00:00:00 - 23:59:59'\n",
        "\n"
      ],
      "metadata": {
        "id": "ohQT8EaeqxVg"
      }
    },
    {
      "cell_type": "code",
      "source": [
        "def time(time1,time2):\n",
        "  sp_time1 = time1.split(':')\n",
        "  sp_time2 = time2.split(':')\n",
        "  a1 = (int(sp_time1[0])*60*60)+(int(sp_time1[1])*60)+int(sp_time1[2])\n",
        "  a2 = (int(sp_time2[0])*60*60)+(int(sp_time2[1])*60)+int(sp_time2[2])\n",
        "  x = a2-a1\n",
        "  return x\n",
        "\n"
      ],
      "metadata": {
        "id": "7eGM0GEBnw-u"
      },
      "execution_count": 41,
      "outputs": []
    },
    {
      "cell_type": "code",
      "source": [
        "A1 = time('09:11:50','12:30:15')"
      ],
      "metadata": {
        "id": "OVy0u_ZLn2nU"
      },
      "execution_count": 42,
      "outputs": []
    },
    {
      "cell_type": "code",
      "source": [
        "print(f'ความต่างของเวลา 09:11:50 และ 12:30:15 เป็นวินาทีเท่ากับ {A1} วินาที')"
      ],
      "metadata": {
        "colab": {
          "base_uri": "https://localhost:8080/"
        },
        "id": "PeVGuayEn5P0",
        "outputId": "962e6915-1285-4ca4-e867-c96bc6970547"
      },
      "execution_count": 43,
      "outputs": [
        {
          "output_type": "stream",
          "name": "stdout",
          "text": [
            "ความต่างของเวลา 09:11:50 และ 12:30:15 เป็นวินาทีเท่ากับ 11905 วินาที\n"
          ]
        }
      ]
    },
    {
      "cell_type": "code",
      "source": [
        "A2 = time('13:41:07','20:00:18')"
      ],
      "metadata": {
        "id": "frC45EwHn8ts"
      },
      "execution_count": 44,
      "outputs": []
    },
    {
      "cell_type": "code",
      "source": [
        "print(f'ความต่างของเวลา 13:41:07 และ 20:00:18 เป็นวินาที เท่ากับ {A2} วินาที')"
      ],
      "metadata": {
        "colab": {
          "base_uri": "https://localhost:8080/"
        },
        "id": "TuWZ7zH5oFhU",
        "outputId": "66daaaa8-131f-46f1-f638-1ab205813613"
      },
      "execution_count": 34,
      "outputs": [
        {
          "output_type": "stream",
          "name": "stdout",
          "text": [
            "ความต่างของเวลา 13:41:07 และ 20:00:18 เป็นวินาที เท่ากับ 22751 วินาที\n"
          ]
        }
      ]
    },
    {
      "cell_type": "code",
      "source": [
        "A3 = time('00:00:00','23:59:59')"
      ],
      "metadata": {
        "id": "krS0W-mToKrs"
      },
      "execution_count": 45,
      "outputs": []
    },
    {
      "cell_type": "code",
      "source": [
        "print(f'ความต่างของเวลา 00:00:00 และ 23:59:59 เป็นวินาที เท่ากับ {A3} วินาที')"
      ],
      "metadata": {
        "colab": {
          "base_uri": "https://localhost:8080/"
        },
        "id": "IG3Q5mgEoOk8",
        "outputId": "a34559ad-6783-4cd0-cbb1-2b0a6df77701"
      },
      "execution_count": 36,
      "outputs": [
        {
          "output_type": "stream",
          "name": "stdout",
          "text": [
            "ความต่างของเวลา 00:00:00 และ 23:59:59 เป็นวินาที เท่ากับ 86399 วินาที\n"
          ]
        }
      ]
    }
  ]
}