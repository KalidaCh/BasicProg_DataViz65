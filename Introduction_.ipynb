{
  "nbformat": 4,
  "nbformat_minor": 0,
  "metadata": {
    "colab": {
      "name": "Introduction .ipynb",
      "provenance": [],
      "authorship_tag": "ABX9TyMv06txayMD3PKH9vqGbx9h",
      "include_colab_link": true
    },
    "kernelspec": {
      "name": "python3",
      "display_name": "Python 3"
    },
    "language_info": {
      "name": "python"
    }
  },
  "cells": [
    {
      "cell_type": "markdown",
      "metadata": {
        "id": "view-in-github",
        "colab_type": "text"
      },
      "source": [
        "<a href=\"https://colab.research.google.com/github/KalidaCh/BasicProg_DataViz65/blob/main/Introduction_.ipynb\" target=\"_parent\"><img src=\"https://colab.research.google.com/assets/colab-badge.svg\" alt=\"Open In Colab\"/></a>"
      ]
    },
    {
      "cell_type": "code",
      "execution_count": null,
      "metadata": {
        "id": "bXsgx-5HFJPc"
      },
      "outputs": [],
      "source": [
        ""
      ]
    },
    {
      "cell_type": "markdown",
      "source": [
        "เกลิดา เชื้อท้าว (6330210117)"
      ],
      "metadata": {
        "id": "SCA2o7u5Fhgj"
      }
    },
    {
      "cell_type": "markdown",
      "source": [
        "#markdown"
      ],
      "metadata": {
        "id": "VMHqAyLlGRf-"
      }
    },
    {
      "cell_type": "markdown",
      "source": [
        "##heading2"
      ],
      "metadata": {
        "id": "mgIUK0rbGXt8"
      }
    },
    {
      "cell_type": "code",
      "source": [
        "print('Kalida')"
      ],
      "metadata": {
        "colab": {
          "base_uri": "https://localhost:8080/"
        },
        "id": "z-z3NDn1HFEJ",
        "outputId": "31250353-e1e6-420d-e114-9317b9ece5f7"
      },
      "execution_count": 1,
      "outputs": [
        {
          "output_type": "stream",
          "name": "stdout",
          "text": [
            "Kalida\n"
          ]
        }
      ]
    }
  ]
}